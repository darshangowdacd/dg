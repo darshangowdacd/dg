{
 "cells": [
  {
   "cell_type": "code",
   "execution_count": null,
   "metadata": {},
   "outputs": [],
   "source": [
    "print(\"hello\")"
   ]
  },
  {
   "cell_type": "code",
   "execution_count": null,
   "metadata": {},
   "outputs": [],
   "source": [
    "#Numbers\n",
    "print(2 + 4)"
   ]
  },
  {
   "cell_type": "code",
   "execution_count": null,
   "metadata": {},
   "outputs": [],
   "source": [
    "#math functions\n",
    "print(round(3.9))\n",
    "print(abs(-20))"
   ]
  },
  {
   "cell_type": "code",
   "execution_count": null,
   "metadata": {},
   "outputs": [],
   "source": [
    "#operator precedence\n",
    "print((5 + 4) * 10 / 2)\n",
    "print(((5 + 4) * 10) / 2)\n",
    "print((5 + 4) * (10 / 2))\n",
    "print(5 + (4 * 10) / 2)\n",
    "print(5 + 4 * 10 // 2)"
   ]
  },
  {
   "cell_type": "code",
   "execution_count": null,
   "metadata": {},
   "outputs": [],
   "source": [
    "#augmented operator\n",
    "a = 10\n",
    "a += 10\n",
    "print(a)"
   ]
  },
  {
   "cell_type": "code",
   "execution_count": null,
   "metadata": {},
   "outputs": [],
   "source": [
    "#String\n",
    "s = ''' Hello\n",
    "People of wakanda xd'''\n",
    "print(s)"
   ]
  },
  {
   "cell_type": "code",
   "execution_count": null,
   "metadata": {},
   "outputs": [],
   "source": [
    "#concatination\n",
    "s = 'a' + 'b'\n",
    "print(s)"
   ]
  },
  {
   "cell_type": "code",
   "execution_count": null,
   "metadata": {},
   "outputs": [],
   "source": [
    "#type conversion\n",
    "a = str(100)\n",
    "b = int('10')\n",
    "print(type(a))\n",
    "print(type(b))"
   ]
  },
  {
   "cell_type": "code",
   "execution_count": null,
   "metadata": {},
   "outputs": [],
   "source": [
    "#escape sequence\n",
    "se = \"It\\'s \\\"kind of\\\" sunny\"\n",
    "print(se)"
   ]
  },
  {
   "cell_type": "code",
   "execution_count": null,
   "metadata": {},
   "outputs": [],
   "source": [
    "#formatted strings\n",
    "name = 'darshan'\n",
    "age = 23\n",
    "print(f'Hello {name} your age is {age}')\n",
    "print('Hello {} your age is {}'.format(name,age))\n"
   ]
  },
  {
   "cell_type": "code",
   "execution_count": null,
   "metadata": {},
   "outputs": [],
   "source": [
    "#String Indexes\n",
    "str = \"01234567\"\n",
    "print(str[1])\n",
    "print(str[1:3])\n",
    "print(str[1:8:2]) # stepover\n",
    "print(str[::-1]) #reverse\n"
   ]
  },
  {
   "cell_type": "code",
   "execution_count": null,
   "metadata": {},
   "outputs": [],
   "source": [
    "#String methods\n",
    "str = 'dexter'\n",
    "print(len(str))\n",
    "print(str.lower())\n",
    "print(str.upper())\n",
    "print(str.capitalize())\n",
    "print(str.replace('d','b'))\n",
    "print(str.find('d'))\n",
    "print(str.index('e'))"
   ]
  },
  {
   "cell_type": "code",
   "execution_count": null,
   "metadata": {},
   "outputs": [],
   "source": [
    "#type conversion\n",
    "year = int(input(\"What year were you born\"))\n",
    "age = 2022 - year\n",
    "print(f'Born in {year}, age is {age}')"
   ]
  },
  {
   "cell_type": "code",
   "execution_count": null,
   "metadata": {},
   "outputs": [],
   "source": [
    "#Task\n",
    "userName = input('Enter your name:')\n",
    "password = input('Enter password')\n",
    "pass_length = len(password)\n",
    "encode = '*' * pass_length\n",
    "print(f'Your user name is :{userName} \\nYour password {encode} has {pass_length} characters')"
   ]
  },
  {
   "cell_type": "code",
   "execution_count": null,
   "metadata": {},
   "outputs": [],
   "source": [
    "#lists & list indexing\n",
    "lis = ['dex',1,2,'Go']\n",
    "l1 = lis #memory assigned to l1\n",
    "l1[0] = 'dg' #changes made in l1 reflect in lis since it shares same memory\n",
    "print(f'l1={l1}')\n",
    "print(f'lis={lis}')\n",
    "\n",
    "#to copy a list\n",
    "copy_lis = lis[:]\n",
    "copy_lis[0] = 'changed'\n",
    "print(f'Copy={copy_lis}')\n",
    "print(f'lis={lis}')\n"
   ]
  },
  {
   "cell_type": "code",
   "execution_count": null,
   "metadata": {},
   "outputs": [],
   "source": [
    "#Matrix\n",
    "matrix = [[1,2,3],[4,5,6]]\n",
    "print(matrix[0][1])"
   ]
  },
  {
   "cell_type": "code",
   "execution_count": null,
   "metadata": {},
   "outputs": [],
   "source": [
    "#lists\n",
    "lis.append(100)\n",
    "print(lis)\n",
    "lis.insert(4,200)\n",
    "print(lis)\n",
    "lis.extend([300,400])\n",
    "print(lis)\n",
    "lis.pop()\n",
    "print(lis)\n",
    "a = lis.pop(0)\n",
    "print(a)#pop returns the removed value \n",
    "print(lis)\n",
    "lis.remove('Go')\n",
    "print(lis)\n",
    "#lis.clear()"
   ]
  },
  {
   "cell_type": "code",
   "execution_count": null,
   "metadata": {},
   "outputs": [],
   "source": [
    "#methods 2\n",
    "lg = ['b','a','c','d']\n",
    "print(list.index('a',0,3)) #value,start,stop"
   ]
  },
  {
   "cell_type": "code",
   "execution_count": null,
   "metadata": {},
   "outputs": [],
   "source": [
    "#list common patterns\n",
    "li = lis[::-1]\n",
    "print(li)\n",
    "print(list(range(10)))\n",
    "s = '*'\n",
    "g = s.join(['Hey','World','welcome','to','planet','earth'])\n",
    "print(g)"
   ]
  },
  {
   "cell_type": "code",
   "execution_count": null,
   "metadata": {},
   "outputs": [],
   "source": [
    "#list unpacking\n",
    "a,b,c, *other , d = [1,2,3,4,5,6,7]\n",
    "print(a)\n",
    "print(b)\n",
    "print(c)\n",
    "print(other)\n",
    "print(d)"
   ]
  },
  {
   "cell_type": "code",
   "execution_count": null,
   "metadata": {},
   "outputs": [],
   "source": [
    "#dictionary\n",
    "dict = {'a':[1,2,3,4],\n",
    "        'b':'Hello',\n",
    "        'c':True,\n",
    "        }\n",
    "print(dict['a'])\n",
    "print(dict['b'])\n",
    "print(dict['c'])\n"
   ]
  },
  {
   "cell_type": "code",
   "execution_count": null,
   "metadata": {},
   "outputs": [],
   "source": [
    "#keys\n",
    "dict1 = {123:[1,2,3,4],\n",
    "        True:'Hello',\n",
    "        'dg':True,\n",
    "        'age' : 40}\n",
    "print(dict1[123])\n",
    "print(dict1[True])\n",
    "print(dict1['dg'])\n"
   ]
  },
  {
   "cell_type": "code",
   "execution_count": null,
   "metadata": {},
   "outputs": [],
   "source": [
    "#dictionary methods\n",
    "print(dict1.get(123))\n",
    "print(dict1['age'])\n",
    "print(dict1.get('name','Darshan')) #looks for key name if not present default value is set to Darshan, does not modify \n",
    "dict1.update({'age':23}) #does not return anything modifes dict\n",
    "print(dict1['age'])\n",
    "print(123 in dict1)\n",
    "print('age' in dict1.keys())\n",
    "print('Hello' in dict1.values())\n",
    "print(dict1.items())\n",
    "dict2 = dict1.copy()\n",
    "print(dict2)\n",
    "dict1.pop('age') #removes age\n",
    "dict1.popitem() #REMOVES RANDOM KEY/VALUE\n",
    "print(dict1)\n",
    "dict2.clear()#clear disctionary\n",
    "print(dict2)"
   ]
  },
  {
   "cell_type": "code",
   "execution_count": null,
   "metadata": {},
   "outputs": [],
   "source": [
    "#tuples\n",
    "t = (1,2,3,4,5,5,6)\n",
    "dt = {(1,2):[1,2,3,4]} # tuples can be used as keys\n",
    "print(dt[(1,2)])\n",
    "x,y,z, *other = t\n",
    "print(x)\n",
    "print(y)\n",
    "print(z)\n",
    "print(other)\n",
    "print(t.count(5))\n",
    "print(t.index(4))"
   ]
  },
  {
   "cell_type": "code",
   "execution_count": null,
   "metadata": {},
   "outputs": [],
   "source": [
    "#sets\n",
    "my_list = [1,2,3,4,5,5]\n",
    "\n",
    "#return list without duplicate values\n",
    "my_list = set(my_list)\n",
    "print(my_list)"
   ]
  },
  {
   "cell_type": "code",
   "execution_count": null,
   "metadata": {},
   "outputs": [],
   "source": [
    "my_set = { 1,2,3,4,5 }\n",
    "your_set = { 4,5,6,7,8,9,10 }\n",
    "print(my_set.difference(your_set)) #return new set\n",
    "print(my_set)\n",
    "my_set.difference_update(your_set)#modifies set returns none\n",
    "print(my_set)\n",
    "my_set & your_set #intersection (modifies set)\n",
    "print(my_set)\n",
    "print(my_set.isdisjoint(your_set)) \n",
    "# .issubset ( )\n",
    "# .issuperset ( )\n",
    "print ( my_set | your_set ) #union"
   ]
  },
  {
   "cell_type": "code",
   "execution_count": null,
   "metadata": {},
   "outputs": [],
   "source": [
    "#condtional operator\n",
    "a = 10\n",
    "if a == 9:\n",
    "     print(\"hello\")\n",
    "elif a == 8:\n",
    "     print(\"Bye\")\n",
    "else:\n",
    "     print(\"hahhahahahha\")"
   ]
  },
  {
   "cell_type": "code",
   "execution_count": null,
   "metadata": {},
   "outputs": [],
   "source": [
    "#ternary operator\n",
    "a,b =10,20\n",
    "min = a if a<b else b\n",
    "max = a if a>b else b\n",
    "print(min)\n",
    "print(max)"
   ]
  },
  {
   "cell_type": "code",
   "execution_count": null,
   "metadata": {},
   "outputs": [],
   "source": [
    "#logical operartors Excercise\n",
    "is_magician = False\n",
    "is_expert = True\n",
    "# chek if magician AND expert : \" you are a master magician \"\n",
    "# check if magician but not expert :\n",
    "\" at least you're getting there \"\n",
    "# if you're not a magician : \" You need magic powers \"\n",
    "\n",
    "if is_magician and is_expert:\n",
    "     print(\"you are a master magician\")\n",
    "elif is_magician and not(is_expert):\n",
    "     print(\"at least you're getting there\")\n",
    "elif not(is_magician):\n",
    "     print(\"You need magic powers\")\n",
    "\n",
    "\n",
    "\n"
   ]
  },
  {
   "cell_type": "code",
   "execution_count": null,
   "metadata": {},
   "outputs": [],
   "source": [
    "import re\n",
    "a = \"#@$1245dgh\"\n",
    "p1 = \"[a-zA-Z]+\"\n",
    "p2 = \"[^a-zA-Z_0-9]+\"\n",
    "dig = [x for x in re.findall(r'\\d+',a)]\n",
    "cha = [x for x in re.findall(p1,a)]\n",
    "sch = [x for x in re.findall(p2,a)]\n",
    "print(dig)\n",
    "print(cha)\n",
    "print(sch)\n"
   ]
  },
  {
   "cell_type": "code",
   "execution_count": null,
   "metadata": {},
   "outputs": [],
   "source": [
    "#is vs == \n",
    "print(True == 1)\n",
    "print('' ==1 )\n",
    "print(10 == 10.0)\n",
    "\n",
    "#print(True is 1)\n",
    "#print('' is 1)\n",
    "#print(10 is 10.0)"
   ]
  },
  {
   "cell_type": "code",
   "execution_count": null,
   "metadata": {},
   "outputs": [],
   "source": [
    "#zipping\n",
    "a =[1,2,3,4]\n",
    "b =['a','b','c','d']\n",
    "for i,j in zip(b,a):\n",
    "     print(i,j)"
   ]
  },
  {
   "cell_type": "code",
   "execution_count": 1,
   "metadata": {},
   "outputs": [
    {
     "name": "stdout",
     "output_type": "stream",
     "text": [
      "55\n"
     ]
    }
   ],
   "source": [
    "#total\n",
    "my_list = [ 1,2,3,4,5,6,7,8,9,10 ]\n",
    "sum = 0\n",
    "for x in my_list:\n",
    "     sum += x\n",
    "print(sum)"
   ]
  },
  {
   "cell_type": "code",
   "execution_count": 3,
   "metadata": {},
   "outputs": [
    {
     "name": "stdout",
     "output_type": "stream",
     "text": [
      "0\n",
      "1\n",
      "2\n",
      "3\n",
      "4\n",
      "\n",
      "\n",
      "0\n",
      "2\n",
      "4\n",
      "6\n",
      "8\n",
      "\n",
      "\n",
      "5\n",
      "4\n",
      "3\n",
      "2\n",
      "1\n"
     ]
    }
   ],
   "source": [
    "#for loops range\n",
    "for _ in range(5):\n",
    "     print(_)\n",
    "print('\\n')\n",
    "for _ in range(0,10,2):\n",
    "     print(_)\n",
    "print('\\n')\n",
    "for _ in range(5,0,-1):\n",
    "     print(_)"
   ]
  },
  {
   "cell_type": "code",
   "execution_count": 6,
   "metadata": {},
   "outputs": [
    {
     "name": "stdout",
     "output_type": "stream",
     "text": [
      "0 1\n",
      "1 2\n",
      "2 3\n",
      "3 4\n"
     ]
    }
   ],
   "source": [
    "#enumerate\n",
    "for i , char in enumerate ((1,2,3,4)):\n",
    "  print ( i , char )"
   ]
  },
  {
   "cell_type": "code",
   "execution_count": 10,
   "metadata": {},
   "outputs": [
    {
     "name": "stdout",
     "output_type": "stream",
     "text": [
      "50 50\n"
     ]
    }
   ],
   "source": [
    "for i,har in enumerate (list(range(100))):\n",
    "  if char == 50:\n",
    "     print(i,char)"
   ]
  },
  {
   "cell_type": "code",
   "execution_count": 14,
   "metadata": {},
   "outputs": [
    {
     "name": "stdout",
     "output_type": "stream",
     "text": [
      "0\n"
     ]
    }
   ],
   "source": [
    "# while \n",
    "i = 0\n",
    "while i < 50:\n",
    "     print(i)\n",
    "     i += 1\n",
    "     break\n",
    "else:\n",
    "     print(\"done with execution\") #else statement workls when there is no break statement in while"
   ]
  },
  {
   "cell_type": "code",
   "execution_count": 15,
   "metadata": {},
   "outputs": [],
   "source": [
    "#while 2\n",
    "while True :\n",
    "  response = input ('say something : ')\n",
    "  if response == 'bye':\n",
    "     break\n",
    "  "
   ]
  },
  {
   "cell_type": "code",
   "execution_count": 22,
   "metadata": {},
   "outputs": [
    {
     "name": "stdout",
     "output_type": "stream",
     "text": [
      "   *   \n",
      "  ***  \n",
      " ***** \n",
      "*******\n",
      "   *   \n",
      "   *   \n"
     ]
    }
   ],
   "source": [
    "#Excercise \n",
    "picture = [\n",
    "[0,0,0,1,0,0,0],\n",
    "[0,0,1,1,1,0,0],\n",
    "[0,1,1,1,1,1,0],\n",
    "[1,1,1,1,1,1,1],\n",
    "[0,0,0,1,0,0,0],\n",
    "[0,0,0,1,0,0,0]\n",
    "]\n",
    "for item in picture:\n",
    "     for value in item:\n",
    "          if value == 0:\n",
    "               print(\" \", end ='')\n",
    "          else:\n",
    "               print(\"*\",end ='')\n",
    "     print('')"
   ]
  },
  {
   "cell_type": "code",
   "execution_count": 52,
   "metadata": {},
   "outputs": [
    {
     "name": "stdout",
     "output_type": "stream",
     "text": [
      "['b', 'n']\n"
     ]
    }
   ],
   "source": [
    "# Exercise : Check for duplicates in list :\n",
    "some_list= ['a','b','c','b','d','m','n','n']\n",
    "lis= []\n",
    "d = [x for x in some_list if some_list.count(x)>1]\n",
    "i = 0\n",
    "while i<2:\n",
    "     d.remove(d[i])\n",
    "     i += 1\n",
    "print(d)"
   ]
  },
  {
   "cell_type": "code",
   "execution_count": 53,
   "metadata": {},
   "outputs": [
    {
     "name": "stdout",
     "output_type": "stream",
     "text": [
      "['b', 'n']\n"
     ]
    }
   ],
   "source": [
    "#solution 2\n",
    "some_list= ['a','b','c','b','d','m','n','n']\n",
    "lis = []\n",
    "for i in some_list:\n",
    "     if some_list.count(i)>1:\n",
    "          if i not in lis:\n",
    "               lis.append(i)\n",
    "print(lis)"
   ]
  },
  {
   "cell_type": "code",
   "execution_count": null,
   "metadata": {},
   "outputs": [],
   "source": []
  }
 ],
 "metadata": {
  "kernelspec": {
   "display_name": "Python 3.10.4 64-bit",
   "language": "python",
   "name": "python3"
  },
  "language_info": {
   "codemirror_mode": {
    "name": "ipython",
    "version": 3
   },
   "file_extension": ".py",
   "mimetype": "text/x-python",
   "name": "python",
   "nbconvert_exporter": "python",
   "pygments_lexer": "ipython3",
   "version": "3.10.4"
  },
  "orig_nbformat": 4,
  "vscode": {
   "interpreter": {
    "hash": "916dbcbb3f70747c44a77c7bcd40155683ae19c65e1c03b4aa3499c5328201f1"
   }
  }
 },
 "nbformat": 4,
 "nbformat_minor": 2
}
